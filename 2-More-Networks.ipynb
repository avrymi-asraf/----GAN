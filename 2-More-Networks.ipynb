{
  "cells": [
    {
      "cell_type": "code",
      "execution_count": 1,
      "metadata": {
        "id": "t-wCKej-0yAw"
      },
      "outputs": [],
      "source": [
        "import torch\n",
        "from torch import nn\n",
        "from torch.utils.data import DataLoader\n",
        "from torchvision import datasets, transforms\n",
        "import plotly.express as px\n",
        "import pandas as pd"
      ]
    },
    {
      "cell_type": "code",
      "source": [
        "clifar10 = datasets.CIFAR10(root=\"data\", train=True, download=True, transform=transforms.Compose([transforms.ToTensor(),transforms.Normalize(0,1)]))"
      ],
      "metadata": {
        "colab": {
          "base_uri": "https://localhost:8080/"
        },
        "id": "1btKfDst1AjD",
        "outputId": "dbca5de3-b468-435d-f8d9-1ea4a95c2410"
      },
      "execution_count": 2,
      "outputs": [
        {
          "output_type": "stream",
          "name": "stdout",
          "text": [
            "Downloading https://www.cs.toronto.edu/~kriz/cifar-10-python.tar.gz to data/cifar-10-python.tar.gz\n"
          ]
        },
        {
          "output_type": "stream",
          "name": "stderr",
          "text": [
            "100%|██████████| 170498071/170498071 [00:17<00:00, 9476174.51it/s]\n"
          ]
        },
        {
          "output_type": "stream",
          "name": "stdout",
          "text": [
            "Extracting data/cifar-10-python.tar.gz to data\n"
          ]
        }
      ]
    },
    {
      "cell_type": "code",
      "source": [
        "class Discrimnator(nn.Module):\n",
        "    def __init__(self,im_dim=(3,32,32)):\n",
        "        super().__init__()\n",
        "        self.im_dim = im_dim\n",
        "        self.conv1 = nn.Conv2d(in_channels=self.im_dim[0],out_channels=64,kernel_size=4,stride=2,padding=1)\n",
        "        self.relu = nn.LeakyReLU(0.2)\n",
        "        self.conv2 = nn.Conv2d(in_channels=64,out_channels=128,kernel_size=4,stride=2,padding=1)\n",
        "        self.conv3 = nn.Conv2d(in_channels=128,out_channels=256,kernel_size=4,stride=2,padding=1)\n",
        "        self.lin = nn.Linear(in_features=256*4*4,out_features=1)\n",
        "        self.sigmoid = nn.Sigmoid()\n",
        "    def forward(self,x):\n",
        "        x = self.conv1(x)\n",
        "        x = self.relu(x)\n",
        "        x = self.conv2(x)\n",
        "        x = self.relu(x)\n",
        "        x = self.conv3(x)\n",
        "        x = self.relu(x)\n",
        "        x = x.view(-1,256*4*4)\n",
        "        x = self.lin(x)\n",
        "        x = self.sigmoid(x)\n",
        "        return x"
      ],
      "metadata": {
        "id": "Z70HhggE1TS6"
      },
      "execution_count": 3,
      "outputs": []
    },
    {
      "cell_type": "code",
      "source": [
        "dis = Discrimnator()\n",
        "dis(clifar10[0][0])\n"
      ],
      "metadata": {
        "colab": {
          "base_uri": "https://localhost:8080/"
        },
        "id": "0E1qr9Me2G7B",
        "outputId": "bcacba49-b366-416a-ac6f-76e82fac8895"
      },
      "execution_count": 4,
      "outputs": [
        {
          "output_type": "execute_result",
          "data": {
            "text/plain": [
              "tensor([[0.4980]], grad_fn=<SigmoidBackward0>)"
            ]
          },
          "metadata": {},
          "execution_count": 4
        }
      ]
    },
    {
      "cell_type": "code",
      "source": [
        "class Generator(nn.Module):\n",
        "    def __init__(self,letant_dim=100):\n",
        "        super().__init__()\n",
        "        self.lin = nn.Linear(in_features=letant_dim,out_features=256*4*4)\n",
        "        self.relu = nn.LeakyReLU(0.2)\n",
        "        self.conv1 = nn.ConvTranspose2d(in_channels=256,out_channels=128,kernel_size=4,stride=2,padding=1,output_padding=0)\n",
        "        self.conv2 = nn.ConvTranspose2d(in_channels=128,out_channels=64,kernel_size=4,stride=2,padding=1,output_padding=0)\n",
        "        self.conv3 = nn.ConvTranspose2d(in_channels=64,out_channels=3,kernel_size=4,stride=2,padding=1,output_padding=0)\n",
        "        self.tanh = nn.Tanh()\n",
        "    def forward(self,x):\n",
        "        x = self.lin(x)\n",
        "        x = self.relu(x)\n",
        "        x = x.view(-1,256,4,4)\n",
        "        x = self.conv1(x)\n",
        "        x = self.relu(x)\n",
        "        x = self.conv2(x)\n",
        "        x = self.relu(x)\n",
        "        x = self.conv3(x)\n",
        "        x = self.tanh(x)\n",
        "        return x\n"
      ],
      "metadata": {
        "id": "WLYvjhKr2OMc"
      },
      "execution_count": 5,
      "outputs": []
    },
    {
      "cell_type": "code",
      "source": [
        "gen = Generator()\n",
        "gen(torch.randn(1,100))"
      ],
      "metadata": {
        "colab": {
          "base_uri": "https://localhost:8080/"
        },
        "id": "Anl3kx3j3Vxq",
        "outputId": "3886baa5-f0e6-49be-83c8-01a256a84a8a"
      },
      "execution_count": 6,
      "outputs": [
        {
          "output_type": "execute_result",
          "data": {
            "text/plain": [
              "tensor([[[[-0.0465, -0.0229, -0.0615,  ..., -0.0306, -0.0788, -0.0488],\n",
              "          [-0.0984, -0.0531, -0.0607,  ..., -0.0484, -0.0313, -0.0898],\n",
              "          [-0.0568, -0.0393, -0.0889,  ...,  0.0017, -0.0681, -0.0434],\n",
              "          ...,\n",
              "          [-0.0971, -0.0781, -0.1480,  ..., -0.0555, -0.0798, -0.1103],\n",
              "          [-0.0448, -0.0809, -0.0222,  ..., -0.0423, -0.0212, -0.0384],\n",
              "          [-0.0930, -0.0778, -0.0968,  ..., -0.0813, -0.0815, -0.0971]],\n",
              "\n",
              "         [[-0.0130, -0.0053,  0.0088,  ...,  0.0002, -0.0157,  0.0019],\n",
              "          [ 0.0117,  0.0226, -0.0090,  ...,  0.0221,  0.0042,  0.0057],\n",
              "          [-0.0357, -0.0512, -0.0443,  ...,  0.0074, -0.0600,  0.0106],\n",
              "          ...,\n",
              "          [-0.0241, -0.0052, -0.0422,  ...,  0.0329, -0.0165,  0.0275],\n",
              "          [-0.0272, -0.0042, -0.0371,  ...,  0.0168, -0.0833, -0.0136],\n",
              "          [-0.0180,  0.0352, -0.0086,  ...,  0.0146,  0.0038,  0.0092]],\n",
              "\n",
              "         [[ 0.0220,  0.0206, -0.0050,  ...,  0.0339,  0.0152, -0.0044],\n",
              "          [ 0.0227,  0.0746,  0.0294,  ...,  0.0138,  0.0322,  0.0371],\n",
              "          [ 0.0243,  0.0234,  0.0452,  ...,  0.0543,  0.0526,  0.0053],\n",
              "          ...,\n",
              "          [ 0.0183,  0.0143, -0.0190,  ...,  0.0497,  0.0064,  0.0512],\n",
              "          [ 0.0112,  0.0263,  0.0322,  ..., -0.0076,  0.0348, -0.0210],\n",
              "          [ 0.0111,  0.0105, -0.0318,  ...,  0.0229, -0.0019,  0.0179]]]],\n",
              "       grad_fn=<TanhBackward0>)"
            ]
          },
          "metadata": {},
          "execution_count": 6
        }
      ]
    },
    {
      "cell_type": "code",
      "source": [
        "device = torch.device(\"cuda\" if torch.cuda.is_available() else \"cpu\")\n",
        "generator  = Generator().to(device)\n",
        "discriminator = Discrimnator().to(device)\n",
        "optim_gen = torch.optim.Adam(generator.parameters(),lr=0.0002)\n",
        "optim_dis = torch.optim.Adam(discriminator.parameters(),lr=0.0002)\n",
        "loss_f = nn.BCELoss()"
      ],
      "metadata": {
        "id": "pLqtT2Zs3X-C"
      },
      "execution_count": 7,
      "outputs": []
    },
    {
      "cell_type": "code",
      "source": [
        "epocs = 1\n",
        "batch_size = 128\n",
        "from math import ceil\n",
        "run_data = pd.DataFrame(columns=[\"epoch\",\"batch\",\"loss_gen\",\"loss_dis\"],index=range(ceil(len(clifar10)/batch_size)*epocs))"
      ],
      "metadata": {
        "id": "Mqf_u1PX7POY"
      },
      "execution_count": 14,
      "outputs": []
    },
    {
      "cell_type": "code",
      "source": [
        "for i in range(epocs):\n",
        "    for j,(x,y) in enumerate(DataLoader(clifar10,batch_size=batch_size,shuffle=True)):\n",
        "        x = x.to(device)\n",
        "        y_hat = discriminator(x).flatten()\n",
        "        loss_dis_1 = loss_f(y_hat,torch.ones(len(x),device=device))\n",
        "\n",
        "        noise = torch.randn(len(x),100).to(device)\n",
        "        y_hat = discriminator(generator(noise)).flatten()\n",
        "        loss_dis_2 = loss_f(y_hat,torch.zeros(len(x),device=device))\n",
        "        loss_dis = loss_dis_1 + loss_dis_2/2\n",
        "\n",
        "        optim_dis.zero_grad()\n",
        "        loss_dis.backward()\n",
        "        optim_dis.step()\n",
        "\n",
        "        noise = torch.randn(batch_size,100).to(device)\n",
        "        y_hat = discriminator(generator(noise)).flatten()\n",
        "        loss_gen = loss_f(y_hat,torch.ones(len(x),device=device))\n",
        "        optim_gen.zero_grad()\n",
        "        loss_gen.backward()\n",
        "        optim_gen.step()\n",
        "\n",
        "        run_data.loc[i*len(clifar10)+j] = [i,i*len(clifar10)+j,loss_gen.item(),loss_dis.item()]"
      ],
      "metadata": {
        "id": "cEN3TtwV737V"
      },
      "execution_count": null,
      "outputs": []
    },
    {
      "cell_type": "code",
      "source": [],
      "metadata": {
        "id": "dX9g_XxN8mfs"
      },
      "execution_count": null,
      "outputs": []
    }
  ],
  "metadata": {
    "language_info": {
      "name": "python"
    },
    "colab": {
      "provenance": []
    },
    "kernelspec": {
      "name": "python3",
      "display_name": "Python 3"
    }
  },
  "nbformat": 4,
  "nbformat_minor": 0
}