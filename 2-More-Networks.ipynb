{
  "cells": [
    {
      "cell_type": "code",
      "execution_count": 1,
      "metadata": {
        "id": "t-wCKej-0yAw"
      },
      "outputs": [],
      "source": [
        "import torch\n",
        "from torch import nn\n",
        "from torch.utils.data import DataLoader\n",
        "from torchvision import datasets, transforms\n",
        "import plotly.express as px"
      ]
    },
    {
      "cell_type": "code",
      "source": [
        "clifar10 = datasets.CIFAR10(root=\"data\", train=True, download=True, transform=transforms.Compose([transforms.ToTensor(),transforms.Normalize(0,1)]))"
      ],
      "metadata": {
        "id": "1btKfDst1AjD",
        "outputId": "8f83b49f-f5d7-4976-bd81-6ee7258aabb1",
        "colab": {
          "base_uri": "https://localhost:8080/"
        }
      },
      "execution_count": 2,
      "outputs": [
        {
          "output_type": "stream",
          "name": "stdout",
          "text": [
            "Downloading https://www.cs.toronto.edu/~kriz/cifar-10-python.tar.gz to data/cifar-10-python.tar.gz\n"
          ]
        },
        {
          "output_type": "stream",
          "name": "stderr",
          "text": [
            "100%|██████████| 170498071/170498071 [00:05<00:00, 28624538.21it/s]\n"
          ]
        },
        {
          "output_type": "stream",
          "name": "stdout",
          "text": [
            "Extracting data/cifar-10-python.tar.gz to data\n"
          ]
        }
      ]
    },
    {
      "cell_type": "code",
      "source": [
        "class Discrimnator(nn.Module):\n",
        "    def __init__(self,im_dim=(3,32,32)):\n",
        "        super().__init__()\n",
        "        self.im_dim = im_dim\n",
        "        self.conv1 = nn.Conv2d(in_channels=self.im_dim[0],out_channels=64,kernel_size=4,stride=2,padding=1)\n",
        "        self.relu = nn.LeakyReLU(0.2)\n",
        "        self.conv2 = nn.Conv2d(in_channels=64,out_channels=128,kernel_size=4,stride=2,padding=1)\n",
        "        self.conv3 = nn.Conv2d(in_channels=128,out_channels=256,kernel_size=4,stride=2,padding=1)\n",
        "        self.lin = nn.Linear(in_features=256*4*4,out_features=1)\n",
        "        self.sigmoid = nn.Sigmoid()\n",
        "    def forward(self,x):\n",
        "        x = self.conv1(x)\n",
        "        x = self.relu(x)\n",
        "        x = self.conv2(x)\n",
        "        x = self.relu(x)\n",
        "        x = self.conv3(x)\n",
        "        x = self.relu(x)\n",
        "        x = x.view(-1,256*4*4)\n",
        "        x = self.lin(x)\n",
        "        x = self.sigmoid(x)\n",
        "        return x"
      ],
      "metadata": {
        "id": "Z70HhggE1TS6"
      },
      "execution_count": 3,
      "outputs": []
    },
    {
      "cell_type": "code",
      "source": [
        "dis = Discrimnator()\n",
        "dis(clifar10[0][0])\n"
      ],
      "metadata": {
        "id": "0E1qr9Me2G7B",
        "outputId": "759d2fa7-0207-4a66-a15c-b5bade003203",
        "colab": {
          "base_uri": "https://localhost:8080/"
        }
      },
      "execution_count": 4,
      "outputs": [
        {
          "output_type": "execute_result",
          "data": {
            "text/plain": [
              "tensor([[0.4990]], grad_fn=<SigmoidBackward0>)"
            ]
          },
          "metadata": {},
          "execution_count": 4
        }
      ]
    },
    {
      "cell_type": "code",
      "source": [
        "class Generator(nn.Module):\n",
        "    def __init__(self,letant_dim=100):\n",
        "        super().__init__()\n",
        "        self.lin = nn.Linear(in_features=letant_dim,out_features=256*4*4)\n",
        "        self.relu = nn.LeakyReLU(0.2)\n",
        "        self.conv1 = nn.ConvTranspose2d(in_channels=256,out_channels=128,kernel_size=4,stride=2,padding=1,output_padding=0)\n",
        "        self.conv2 = nn.ConvTranspose2d(in_channels=128,out_channels=64,kernel_size=4,stride=2,padding=1,output_padding=0)\n",
        "        self.conv3 = nn.ConvTranspose2d(in_channels=64,out_channels=3,kernel_size=4,stride=2,padding=1,output_padding=0)\n",
        "        self.tanh = nn.Tanh()\n",
        "    def forward(self,x):\n",
        "        x = self.lin(x)\n",
        "        x = self.relu(x)\n",
        "        x = x.view(-1,256,4,4)\n",
        "        x = self.conv1(x)\n",
        "        x = self.relu(x)\n",
        "        x = self.conv2(x)\n",
        "        x = self.relu(x)\n",
        "        x = self.conv3(x)\n",
        "        x = self.tanh(x)\n",
        "        return x\n"
      ],
      "metadata": {
        "id": "WLYvjhKr2OMc"
      },
      "execution_count": 12,
      "outputs": []
    },
    {
      "cell_type": "code",
      "source": [
        "gen = Generator()\n",
        "gen(torch.randn(1,100))"
      ],
      "metadata": {
        "id": "Anl3kx3j3Vxq",
        "outputId": "1804da12-b9ea-425b-bcd9-bc1f312fc185",
        "colab": {
          "base_uri": "https://localhost:8080/"
        }
      },
      "execution_count": 13,
      "outputs": [
        {
          "output_type": "stream",
          "name": "stdout",
          "text": [
            "torch.Size([1, 100])\n",
            "torch.Size([1, 256, 4, 4])\n",
            "torch.Size([1, 128, 8, 8])\n",
            "torch.Size([1, 64, 16, 16])\n",
            "torch.Size([1, 3, 32, 32])\n"
          ]
        },
        {
          "output_type": "execute_result",
          "data": {
            "text/plain": [
              "tensor([[[[-0.0830, -0.1002, -0.0856,  ..., -0.0945, -0.0746, -0.0997],\n",
              "          [-0.1146, -0.1424, -0.1037,  ..., -0.1273, -0.1877, -0.1494],\n",
              "          [-0.0684, -0.1336, -0.0728,  ..., -0.0765, -0.0754, -0.0741],\n",
              "          ...,\n",
              "          [-0.1105, -0.1292, -0.1220,  ..., -0.1244, -0.1105, -0.1279],\n",
              "          [-0.0952, -0.0805, -0.0440,  ..., -0.1099, -0.0636, -0.0943],\n",
              "          [-0.1064, -0.0926, -0.1178,  ..., -0.1043, -0.1061, -0.0898]],\n",
              "\n",
              "         [[-0.1445, -0.1194, -0.1246,  ..., -0.1059, -0.1365, -0.1293],\n",
              "          [-0.1068, -0.1354, -0.1335,  ..., -0.1743, -0.1698, -0.1413],\n",
              "          [-0.1341, -0.1000, -0.0839,  ..., -0.0600, -0.1703, -0.1213],\n",
              "          ...,\n",
              "          [-0.1232, -0.1246, -0.1271,  ..., -0.1481, -0.1000, -0.1431],\n",
              "          [-0.1181, -0.0807, -0.1180,  ..., -0.1128, -0.1119, -0.1155],\n",
              "          [-0.1302, -0.1442, -0.1389,  ..., -0.1470, -0.1337, -0.1198]],\n",
              "\n",
              "         [[-0.0637, -0.0304, -0.0523,  ..., -0.0280, -0.0702, -0.0304],\n",
              "          [-0.0039, -0.0713, -0.0002,  ..., -0.0837,  0.0297, -0.0752],\n",
              "          [-0.0486, -0.0379, -0.0676,  ..., -0.0413, -0.0798, -0.0195],\n",
              "          ...,\n",
              "          [-0.0219, -0.0735, -0.0244,  ..., -0.0428, -0.0586, -0.0713],\n",
              "          [-0.0572, -0.0434, -0.0613,  ..., -0.0235, -0.0604, -0.0488],\n",
              "          [-0.0514, -0.0631, -0.0259,  ..., -0.0459, -0.0451, -0.0555]]]],\n",
              "       grad_fn=<TanhBackward0>)"
            ]
          },
          "metadata": {},
          "execution_count": 13
        }
      ]
    },
    {
      "cell_type": "code",
      "source": [],
      "metadata": {
        "id": "pLqtT2Zs3X-C"
      },
      "execution_count": null,
      "outputs": []
    }
  ],
  "metadata": {
    "language_info": {
      "name": "python"
    },
    "colab": {
      "provenance": []
    },
    "kernelspec": {
      "name": "python3",
      "display_name": "Python 3"
    }
  },
  "nbformat": 4,
  "nbformat_minor": 0
}